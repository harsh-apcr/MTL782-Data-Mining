{
 "cells": [
  {
   "cell_type": "code",
   "execution_count": 1,
   "id": "372486b6",
   "metadata": {},
   "outputs": [],
   "source": [
    "import requests\n",
    "link = \"http://fimi.uantwerpen.be/data/retail.dat\"\n",
    "market_retail_dataset = requests.get(link).text\n",
    "retail_dataset = market_retail_dataset.split(\"\\n\")\n",
    "transactions = dict()\n",
    "i = 1\n",
    "for transaction in retail_dataset:\n",
    "    _transaction = transaction.split(\" \")\n",
    "    _t = [int(item) for item in _transaction if item.isdecimal()]\n",
    "    if not _t:\n",
    "        continue\n",
    "    transactions[i] = _t\n",
    "    i += 1"
   ]
  },
  {
   "cell_type": "code",
   "execution_count": 8,
   "id": "46e10f88",
   "metadata": {},
   "outputs": [
    {
     "name": "stdout",
     "output_type": "stream",
     "text": [
      "Frequent Itemset : {32} , supp_count : 15167\n",
      "Frequent Itemset : {38} , supp_count : 15596\n",
      "Frequent Itemset : {39} , supp_count : 50675\n",
      "Frequent Itemset : {41} , supp_count : 14945\n",
      "Frequent Itemset : {48} , supp_count : 42135\n",
      "Frequent Itemset : {65} , supp_count : 4472\n",
      "Frequent Itemset : {32, 39} , supp_count : 8455\n",
      "Frequent Itemset : {32, 48} , supp_count : 8034\n",
      "Frequent Itemset : {38, 39} , supp_count : 10345\n",
      "Frequent Itemset : {48, 38} , supp_count : 7944\n",
      "Frequent Itemset : {41, 39} , supp_count : 11414\n",
      "Frequent Itemset : {48, 39} , supp_count : 29142\n",
      "Frequent Itemset : {48, 41} , supp_count : 9018\n",
      "Frequent Itemset : {32, 48, 39} , supp_count : 5402\n",
      "Frequent Itemset : {48, 38, 39} , supp_count : 6102\n",
      "Frequent Itemset : {48, 41, 39} , supp_count : 7366\n",
      "Elapsed Time : 13.735976899974048 s\n",
      "{Rule :{48} ---> {32, 39}, Confidence :0.1282069538388513}\n",
      "{Rule :{39} ---> {32, 48}, Confidence :0.10660088801184016}\n",
      "{Rule :{32} ---> {48, 39}, Confidence :0.35616799630777346}\n",
      "{Rule :{48, 38} ---> {32, 39}, Confidence :0.7681268882175226}\n",
      "{Rule :{38, 39} ---> {32, 48}, Confidence :0.5898501691638472}\n",
      "{Rule :{38} ---> {48, 39}, Confidence :0.39125416773531674}\n",
      "{Rule :{48} ---> {38, 39}, Confidence :0.14482022071911713}\n",
      "{Rule :{39} ---> {48, 38}, Confidence :0.12041440552540701}\n",
      "{Rule :{48, 41} ---> {32, 39}, Confidence :0.8168108227988468}\n",
      "{Rule :{41, 39} ---> {32, 48}, Confidence :0.6453478184685474}\n",
      "{Rule :{41} ---> {48, 39}, Confidence :0.4928738708598193}\n",
      "{Rule :{48, 41} ---> {38, 39}, Confidence :0.8168108227988468}\n",
      "{Rule :{48} ---> {41, 39}, Confidence :0.1748190340571971}\n",
      "{Rule :{41, 39} ---> {48, 38}, Confidence :0.6453478184685474}\n",
      "{Rule :{39} ---> {48, 41}, Confidence :0.14535767143561915}\n",
      "Elapsed Time : 0.4486998077481985 us\n"
     ]
    }
   ],
   "source": [
    "import sys\n",
    "sys.path.insert(0, './apriori')\n",
    "from apriori_algorithm import gen_freq_itemsets, gen_rules\n",
    "from test import transactions\n",
    "import timeit\n",
    "start = timeit.default_timer()\n",
    "fitems = gen_freq_itemsets(transactions, min_sup=0.05)\n",
    "stop = timeit.default_timer()\n",
    "for fitems_k in fitems:\n",
    "    for items, supp_count in fitems_k.items():\n",
    "        print(f\"Frequent Itemset : {set(items)} , supp_count : {supp_count}\")\n",
    "print('Elapsed Time :', stop-start, 's')\n",
    "\n",
    "start = timeit.default_timer()\n",
    "rules = gen_rules(fitems, min_conf=0.01)\n",
    "stop = timeit.default_timer()\n",
    "for rule in rules:\n",
    "    print(rule)\n",
    "print('Elapsed Time :', (stop-start)*(10**3), 'us')"
   ]
  },
  {
   "cell_type": "code",
   "execution_count": null,
   "id": "4675bd47",
   "metadata": {},
   "outputs": [],
   "source": []
  }
 ],
 "metadata": {
  "kernelspec": {
   "display_name": "Python 3 (ipykernel)",
   "language": "python",
   "name": "python3"
  },
  "language_info": {
   "codemirror_mode": {
    "name": "ipython",
    "version": 3
   },
   "file_extension": ".py",
   "mimetype": "text/x-python",
   "name": "python",
   "nbconvert_exporter": "python",
   "pygments_lexer": "ipython3",
   "version": "3.10.1"
  }
 },
 "nbformat": 4,
 "nbformat_minor": 5
}
