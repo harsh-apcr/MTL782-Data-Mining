{
 "cells": [
  {
   "cell_type": "markdown",
   "id": "68560d22",
   "metadata": {},
   "source": [
    "# Data Pre-proccesing Step"
   ]
  },
  {
   "cell_type": "code",
   "execution_count": 1,
   "id": "9349538a",
   "metadata": {},
   "outputs": [
    {
     "data": {
      "text/html": [
       "<div>\n",
       "<style scoped>\n",
       "    .dataframe tbody tr th:only-of-type {\n",
       "        vertical-align: middle;\n",
       "    }\n",
       "\n",
       "    .dataframe tbody tr th {\n",
       "        vertical-align: top;\n",
       "    }\n",
       "\n",
       "    .dataframe thead th {\n",
       "        text-align: right;\n",
       "    }\n",
       "</style>\n",
       "<table border=\"1\" class=\"dataframe\">\n",
       "  <thead>\n",
       "    <tr style=\"text-align: right;\">\n",
       "      <th></th>\n",
       "      <th>Kingdom</th>\n",
       "      <th>DNAtype</th>\n",
       "      <th>SpeciesID</th>\n",
       "      <th>Ncodons</th>\n",
       "      <th>SpeciesName</th>\n",
       "      <th>UUU</th>\n",
       "      <th>UUC</th>\n",
       "      <th>UUA</th>\n",
       "      <th>UUG</th>\n",
       "      <th>CUU</th>\n",
       "      <th>...</th>\n",
       "      <th>CGG</th>\n",
       "      <th>AGA</th>\n",
       "      <th>AGG</th>\n",
       "      <th>GAU</th>\n",
       "      <th>GAC</th>\n",
       "      <th>GAA</th>\n",
       "      <th>GAG</th>\n",
       "      <th>UAA</th>\n",
       "      <th>UAG</th>\n",
       "      <th>UGA</th>\n",
       "    </tr>\n",
       "  </thead>\n",
       "  <tbody>\n",
       "    <tr>\n",
       "      <th>0</th>\n",
       "      <td>vrl</td>\n",
       "      <td>0</td>\n",
       "      <td>100217</td>\n",
       "      <td>1995</td>\n",
       "      <td>Epizootic haematopoietic necrosis virus</td>\n",
       "      <td>0.01654</td>\n",
       "      <td>0.01203</td>\n",
       "      <td>0.00050</td>\n",
       "      <td>0.00351</td>\n",
       "      <td>0.01203</td>\n",
       "      <td>...</td>\n",
       "      <td>0.00451</td>\n",
       "      <td>0.01303</td>\n",
       "      <td>0.03559</td>\n",
       "      <td>0.01003</td>\n",
       "      <td>0.04612</td>\n",
       "      <td>0.01203</td>\n",
       "      <td>0.04361</td>\n",
       "      <td>0.00251</td>\n",
       "      <td>0.00050</td>\n",
       "      <td>0.00000</td>\n",
       "    </tr>\n",
       "    <tr>\n",
       "      <th>1</th>\n",
       "      <td>vrl</td>\n",
       "      <td>0</td>\n",
       "      <td>100220</td>\n",
       "      <td>1474</td>\n",
       "      <td>Bohle iridovirus</td>\n",
       "      <td>0.02714</td>\n",
       "      <td>0.01357</td>\n",
       "      <td>0.00068</td>\n",
       "      <td>0.00678</td>\n",
       "      <td>0.00407</td>\n",
       "      <td>...</td>\n",
       "      <td>0.00136</td>\n",
       "      <td>0.01696</td>\n",
       "      <td>0.03596</td>\n",
       "      <td>0.01221</td>\n",
       "      <td>0.04545</td>\n",
       "      <td>0.01560</td>\n",
       "      <td>0.04410</td>\n",
       "      <td>0.00271</td>\n",
       "      <td>0.00068</td>\n",
       "      <td>0.00000</td>\n",
       "    </tr>\n",
       "    <tr>\n",
       "      <th>2</th>\n",
       "      <td>vrl</td>\n",
       "      <td>0</td>\n",
       "      <td>100755</td>\n",
       "      <td>4862</td>\n",
       "      <td>Sweet potato leaf curl virus</td>\n",
       "      <td>0.01974</td>\n",
       "      <td>0.02180</td>\n",
       "      <td>0.01357</td>\n",
       "      <td>0.01543</td>\n",
       "      <td>0.00782</td>\n",
       "      <td>...</td>\n",
       "      <td>0.00596</td>\n",
       "      <td>0.01974</td>\n",
       "      <td>0.02489</td>\n",
       "      <td>0.03126</td>\n",
       "      <td>0.02036</td>\n",
       "      <td>0.02242</td>\n",
       "      <td>0.02468</td>\n",
       "      <td>0.00391</td>\n",
       "      <td>0.00000</td>\n",
       "      <td>0.00144</td>\n",
       "    </tr>\n",
       "    <tr>\n",
       "      <th>3</th>\n",
       "      <td>vrl</td>\n",
       "      <td>0</td>\n",
       "      <td>100880</td>\n",
       "      <td>1915</td>\n",
       "      <td>Northern cereal mosaic virus</td>\n",
       "      <td>0.01775</td>\n",
       "      <td>0.02245</td>\n",
       "      <td>0.01619</td>\n",
       "      <td>0.00992</td>\n",
       "      <td>0.01567</td>\n",
       "      <td>...</td>\n",
       "      <td>0.00366</td>\n",
       "      <td>0.01410</td>\n",
       "      <td>0.01671</td>\n",
       "      <td>0.03760</td>\n",
       "      <td>0.01932</td>\n",
       "      <td>0.03029</td>\n",
       "      <td>0.03446</td>\n",
       "      <td>0.00261</td>\n",
       "      <td>0.00157</td>\n",
       "      <td>0.00000</td>\n",
       "    </tr>\n",
       "    <tr>\n",
       "      <th>4</th>\n",
       "      <td>vrl</td>\n",
       "      <td>0</td>\n",
       "      <td>100887</td>\n",
       "      <td>22831</td>\n",
       "      <td>Soil-borne cereal mosaic virus</td>\n",
       "      <td>0.02816</td>\n",
       "      <td>0.01371</td>\n",
       "      <td>0.00767</td>\n",
       "      <td>0.03679</td>\n",
       "      <td>0.01380</td>\n",
       "      <td>...</td>\n",
       "      <td>0.00604</td>\n",
       "      <td>0.01494</td>\n",
       "      <td>0.01734</td>\n",
       "      <td>0.04148</td>\n",
       "      <td>0.02483</td>\n",
       "      <td>0.03359</td>\n",
       "      <td>0.03679</td>\n",
       "      <td>0.00000</td>\n",
       "      <td>0.00044</td>\n",
       "      <td>0.00131</td>\n",
       "    </tr>\n",
       "  </tbody>\n",
       "</table>\n",
       "<p>5 rows × 69 columns</p>\n",
       "</div>"
      ],
      "text/plain": [
       "  Kingdom DNAtype  SpeciesID  Ncodons  \\\n",
       "0     vrl       0     100217     1995   \n",
       "1     vrl       0     100220     1474   \n",
       "2     vrl       0     100755     4862   \n",
       "3     vrl       0     100880     1915   \n",
       "4     vrl       0     100887    22831   \n",
       "\n",
       "                               SpeciesName      UUU      UUC      UUA  \\\n",
       "0  Epizootic haematopoietic necrosis virus  0.01654  0.01203  0.00050   \n",
       "1                         Bohle iridovirus  0.02714  0.01357  0.00068   \n",
       "2             Sweet potato leaf curl virus  0.01974  0.02180  0.01357   \n",
       "3             Northern cereal mosaic virus  0.01775  0.02245  0.01619   \n",
       "4           Soil-borne cereal mosaic virus  0.02816  0.01371  0.00767   \n",
       "\n",
       "       UUG      CUU  ...      CGG      AGA      AGG      GAU      GAC  \\\n",
       "0  0.00351  0.01203  ...  0.00451  0.01303  0.03559  0.01003  0.04612   \n",
       "1  0.00678  0.00407  ...  0.00136  0.01696  0.03596  0.01221  0.04545   \n",
       "2  0.01543  0.00782  ...  0.00596  0.01974  0.02489  0.03126  0.02036   \n",
       "3  0.00992  0.01567  ...  0.00366  0.01410  0.01671  0.03760  0.01932   \n",
       "4  0.03679  0.01380  ...  0.00604  0.01494  0.01734  0.04148  0.02483   \n",
       "\n",
       "       GAA      GAG      UAA      UAG      UGA  \n",
       "0  0.01203  0.04361  0.00251  0.00050  0.00000  \n",
       "1  0.01560  0.04410  0.00271  0.00068  0.00000  \n",
       "2  0.02242  0.02468  0.00391  0.00000  0.00144  \n",
       "3  0.03029  0.03446  0.00261  0.00157  0.00000  \n",
       "4  0.03359  0.03679  0.00000  0.00044  0.00131  \n",
       "\n",
       "[5 rows x 69 columns]"
      ]
     },
     "execution_count": 1,
     "metadata": {},
     "output_type": "execute_result"
    }
   ],
   "source": [
    "import pandas as pd\n",
    "import numpy as np\n",
    "from sklearn.tree import DecisionTreeClassifier\n",
    "import matplotlib.pyplot as plt\n",
    "import sys\n",
    "sys.path.append('../../model_evaluation')\n",
    "\n",
    "path = '../../codon-usage-data-set/'\n",
    "df = pd.read_csv(path + 'codon_usage.csv', low_memory = False)\n",
    "\n",
    "# removing missing value -----------------------\n",
    "df = df[pd.to_numeric(df['UUU'], errors='coerce').notnull()]\n",
    "df = df[pd.to_numeric(df['UUC'], errors='coerce').notnull()]\n",
    "\n",
    "df.UUU = df.UUU.astype('float64')\n",
    "df.UUC = df.UUC.astype('float64')\n",
    "# ----------------------------------------------\n",
    "\n",
    "# avoid any DNA types specified by the integers greater than 2\n",
    "df = df[df.DNAtype <= 2]\n",
    "\n",
    "# Remove plm kingdom\n",
    "df = df[df.Kingdom != 'plm']\n",
    "\n",
    "# Convert the type of target attributes to categorical (as opposed to 'str' or 'int') \n",
    "df.Kingdom = df.Kingdom.astype('category')\n",
    "df.DNAtype = df.DNAtype.astype('category')\n",
    "\n",
    "# Discard the genome entries with Ncodons less than 1000\n",
    "df = df[df.Ncodons > 1000]\n",
    "\n",
    "# Replace 'xxx' (where ‘xxx’ is one of ‘pln’, ‘inv’, ‘vrt’, ‘mam’, ‘rod’, or ‘pri’) by 'euk'\n",
    "df['Kingdom'] = df['Kingdom'].replace(\n",
    "                      {'pln' : 'euk' ,\n",
    "                       'inv' : 'euk' ,\n",
    "                       'vrt' : 'euk' ,\n",
    "                       'mam' : 'euk' ,\n",
    "                       'rod' : 'euk' ,\n",
    "                       'pri' : 'euk' \n",
    "                      })\n",
    "\n",
    "df = df.reset_index(drop=True)\n",
    "df.head()"
   ]
  },
  {
   "cell_type": "markdown",
   "id": "bb3f68d0",
   "metadata": {},
   "source": [
    "## Kingdom Class Distribution"
   ]
  },
  {
   "cell_type": "code",
   "execution_count": 2,
   "id": "d1398ec3",
   "metadata": {},
   "outputs": [
    {
     "data": {
      "text/plain": [
       "Kingdom\n",
       "arc     126\n",
       "bct    2916\n",
       "phg     220\n",
       "euk    6859\n",
       "vrl    2831\n",
       "dtype: int64"
      ]
     },
     "execution_count": 2,
     "metadata": {},
     "output_type": "execute_result"
    }
   ],
   "source": [
    "df.groupby('Kingdom').size()"
   ]
  },
  {
   "cell_type": "markdown",
   "id": "b74b1cd5",
   "metadata": {},
   "source": [
    "## DNAtype Class Distribution"
   ]
  },
  {
   "cell_type": "code",
   "execution_count": 3,
   "id": "42a49ad6",
   "metadata": {},
   "outputs": [
    {
     "data": {
      "text/plain": [
       "DNAtype\n",
       "0    9244\n",
       "1    2899\n",
       "2     809\n",
       "dtype: int64"
      ]
     },
     "execution_count": 3,
     "metadata": {},
     "output_type": "execute_result"
    }
   ],
   "source": [
    "df.groupby('DNAtype').size()"
   ]
  },
  {
   "cell_type": "markdown",
   "id": "53e93ae2",
   "metadata": {},
   "source": [
    "### Tuning the Decision Tree Model with hyper-parameter `max_leaf_nodes` "
   ]
  },
  {
   "cell_type": "code",
   "execution_count": 4,
   "id": "330d681e",
   "metadata": {},
   "outputs": [],
   "source": [
    "# Tuning the hyper-parameter (max_leaf_nodes of the decision_tree_classifier)\n",
    "from dt_training import tree_training\n",
    "from KFold import KFold\n",
    "\n",
    "class_vars_kingdom = pd.Series(['arc', 'bct', 'phg', 'euk', 'vrl'], dtype='category')\n",
    "class_vars_dnatype = pd.Series([0, 1, 2], dtype = 'category')\n",
    "codon_columns = [c for c in df.columns if c not in ['Kingdom', 'DNAtype', 'SpeciesID', 'Ncodons', 'SpeciesName']]\n",
    "\n",
    "kfold = KFold(5, shuffle = True, random_state = 1)\n",
    "df_split = kfold.split(df) "
   ]
  },
  {
   "cell_type": "markdown",
   "id": "b666e1b9",
   "metadata": {},
   "source": [
    "### Model Tuning For Kingdom Classification"
   ]
  },
  {
   "cell_type": "code",
   "execution_count": 37,
   "id": "318e91a2",
   "metadata": {},
   "outputs": [],
   "source": [
    "# Performing 5-fold cross-validation for Kingdom Classification\n",
    "acc_train_kingdom = np.zeros((19,), dtype='float32')\n",
    "acc_test_kingdom = np.zeros((19,), dtype='float32')\n",
    "max_leaf_nodes = np.linspace(2, 20, 19, dtype='int32')\n",
    "\n",
    "for i in range(2, 21):\n",
    "    tot_train = 0\n",
    "    tot_test = 0\n",
    "    for idx_train, idx_test in df_split:\n",
    "        X_train = df.loc[idx_train, codon_columns]\n",
    "        y_train = df.loc[idx_train, 'Kingdom']\n",
    "\n",
    "        X_test = df.loc[idx_test, codon_columns]\n",
    "        y_test = df.loc[idx_test, 'Kingdom']\n",
    "\n",
    "        train, test = tree_training(i, class_vars_kingdom, X_train, y_train, X_test, y_test)\n",
    "        tot_train += train\n",
    "        tot_test += test\n",
    "    acc_train_kingdom[i-2] = tot_train / 5\n",
    "    acc_test_kingdom[i-2] = tot_test / 5"
   ]
  },
  {
   "cell_type": "markdown",
   "id": "d6acc3b3",
   "metadata": {},
   "source": [
    "### Model Tuning For DNAtype Classification"
   ]
  },
  {
   "cell_type": "code",
   "execution_count": 40,
   "id": "2d445f0e",
   "metadata": {},
   "outputs": [],
   "source": [
    "# Performing 5-fold cross-validation for DNAtype Classification\n",
    "acc_train_dnatype = np.zeros((19,), dtype='float32')\n",
    "acc_test_dnatype = np.zeros((19,), dtype='float32')\n",
    "\n",
    "for i in range(2, 21):\n",
    "    tot_train = 0\n",
    "    tot_test = 0\n",
    "    for idx_train, idx_test in df_split:\n",
    "        X_train = df.loc[idx_train, codon_columns]\n",
    "        y_train = df.loc[idx_train, 'DNAtype']\n",
    "\n",
    "        X_test = df.loc[idx_test, codon_columns]\n",
    "        y_test = df.loc[idx_test, 'DNAtype']\n",
    "\n",
    "        train, test = tree_training(i, class_vars_dnatype, X_train, y_train, X_test, y_test)\n",
    "        tot_train += train\n",
    "        tot_test += test\n",
    "    acc_train_dnatype[i-2] = tot_train / 5\n",
    "    acc_test_dnatype[i-2] = tot_test / 5"
   ]
  },
  {
   "cell_type": "markdown",
   "id": "4350efda",
   "metadata": {},
   "source": [
    "### Draw the accuracy vs max_leaf_nodes plot"
   ]
  },
  {
   "cell_type": "code",
   "execution_count": 47,
   "id": "bfa6670a",
   "metadata": {},
   "outputs": [
    {
     "data": {
      "image/png": "[encoded data removed]",
      "text/plain": [
       "<Figure size 1152x504 with 2 Axes>"
      ]
     },
     "metadata": {
      "needs_background": "light"
     },
     "output_type": "display_data"
    }
   ],
   "source": [
    "fig, (ax1, ax2) = plt.subplots(1,2, figsize=(16,7))\n",
    "ax1.set_title('Kingdom Classification')\n",
    "ax1.set_xlabel('max_leaf_nodes')\n",
    "ax1.set_ylabel('accuracy')\n",
    "ax1.set_xticks(max_leaf_nodes)\n",
    "\n",
    "ax1.plot(max_leaf_nodes, acc_train_kingdom, marker='.', label= 'training accuracy')\n",
    "ax1.plot(max_leaf_nodes, acc_test_kingdom, marker='.', label= 'test accuracy')\n",
    "ax1.legend()\n",
    "\n",
    "ax2.set_title('DNAtype Classification')\n",
    "ax2.set_xlabel('max_leaf_nodes')\n",
    "ax2.set_ylabel('accuracy')\n",
    "ax2.set_xticks(max_leaf_nodes)    \n",
    "\n",
    "ax2.plot(max_leaf_nodes, acc_train_dnatype, marker='.', label= 'training accuracy')\n",
    "ax2.plot(max_leaf_nodes, acc_test_dnatype, marker='.', label= 'test accuracy')\n",
    "ax2.legend()\n",
    "\n",
    "plt.show()"
   ]
  },
  {
   "cell_type": "markdown",
   "id": "23bed1bd",
   "metadata": {},
   "source": [
    "We'll use **Occam's Razor Principle** (prefer simpler models over the complex ones) to select our classification model\n",
    "</br>\n",
    "From the above outcomes we observe the following:\n",
    "</br>\n",
    "</br>\n",
    "**Kingdom Classification**\n",
    "</br>\n",
    "best performance on validation set (with minimum number of leaf nodes) is for **11 nodes** \n",
    "</br>\n",
    "`max_leaf_nodes:11 ,training-accuracy:0.633, test-accuracy:0.629`\n",
    "</br>\n",
    "</br>\n",
    "**DNAtype Classification**\n",
    "</br>\n",
    "best performance on validation set (with minimum number of leaf nodes) is for **4 nodes**\n",
    "</br>\n",
    "`max_leaf_nodes:4 ,training-accuracy:0.949, test-accuracy:0.944`"
   ]
  },
  {
   "cell_type": "code",
   "execution_count": 54,
   "id": "909a0a4b",
   "metadata": {},
   "outputs": [
    {
     "name": "stdout",
     "output_type": "stream",
     "text": [
      "max_leaf_nodes:11 ,training-accuracy:0.6330000162124634, test-accuracy:0.6290000081062317\n",
      "max_leaf_nodes:4 ,training-accuracy:0.9490000009536743, test-accuracy:0.9440000057220459\n"
     ]
    }
   ],
   "source": [
    "print(f'max_leaf_nodes:{max_leaf_nodes[9]} ,training-accuracy:{round(acc_train_kingdom[9], 3)}, test-accuracy:{round(acc_test_kingdom[9], 3)}')\n",
    "print(f'max_leaf_nodes:{max_leaf_nodes[2]} ,training-accuracy:{round(acc_train_dnatype[2], 3)}, test-accuracy:{round(acc_test_dnatype[2], 3)}')"
   ]
  },
  {
   "cell_type": "markdown",
   "id": "c59c8e23",
   "metadata": {},
   "source": [
    "### Build the respective optimal models"
   ]
  },
  {
   "cell_type": "code",
   "execution_count": 49,
   "id": "bcb1d521",
   "metadata": {},
   "outputs": [
    {
     "data": {
      "text/plain": [
       "DecisionTreeClassifier(class_weight='balanced', max_leaf_nodes=11)"
      ]
     },
     "execution_count": 49,
     "metadata": {},
     "output_type": "execute_result"
    }
   ],
   "source": [
    "X = df.loc[:,codon_columns]\n",
    "y_kingdom = df['Kingdom']\n",
    "y_dnatype = df['DNAtype']\n",
    "# Optimal Model for Kingdom classification\n",
    "model_tree_kingdom = DecisionTreeClassifier(max_leaf_nodes = 11, class_weight = 'balanced')\n",
    "model_tree_kingdom.fit(X, y_kingdom)"
   ]
  },
  {
   "cell_type": "code",
   "execution_count": 50,
   "id": "c660748d",
   "metadata": {},
   "outputs": [
    {
     "data": {
      "text/plain": [
       "DecisionTreeClassifier(class_weight='balanced', max_leaf_nodes=4)"
      ]
     },
     "execution_count": 50,
     "metadata": {},
     "output_type": "execute_result"
    }
   ],
   "source": [
    "# Optimal Model for DNAtype Classification\n",
    "model_tree_dnatype = DecisionTreeClassifier(max_leaf_nodes = 4, class_weight = 'balanced')\n",
    "model_tree_dnatype.fit(X, y_dnatype)"
   ]
  },
  {
   "cell_type": "markdown",
   "id": "42520cc6",
   "metadata": {},
   "source": [
    "### Apply the models on the data-set and draw their ROC curves (i.e. FPR vs TPR curve) to check their class-wise performance "
   ]
  },
  {
   "cell_type": "code",
   "execution_count": 55,
   "id": "bb4a37e4",
   "metadata": {},
   "outputs": [
    {
     "data": {
      "image/png": "[encoded data removed]",
      "text/plain": [
       "<Figure size 468x468 with 1 Axes>"
      ]
     },
     "metadata": {
      "needs_background": "light"
     },
     "output_type": "display_data"
    }
   ],
   "source": [
    "from sklearn.metrics import roc_curve\n",
    "\n",
    "n = len(y_kingdom)\n",
    "m = len(class_vars_kingdom)\n",
    "\n",
    "# Predict class probabilities\n",
    "y_pred_kingdom = model_tree_kingdom.predict(X)\n",
    "dt_probs = model_tree_kingdom.predict_proba(X)\n",
    "\n",
    "plt.figure(figsize = (6.5, 6.5))\n",
    "plt.title('ROC Plot Kingdom')\n",
    "\n",
    "plt.xlabel('FPR(False Positive Rate)')\n",
    "plt.ylabel('TPR(True Positive Rate)')\n",
    "\n",
    "_y = np.ones((n,),dtype=\"int8\")\n",
    "first = True\n",
    "for i in range(m):\n",
    "    if not first:\n",
    "        _y = np.ones((n,),dtype=\"int8\")\n",
    "    \n",
    "    class_name = class_vars_kingdom[i]\n",
    "    for j in range(n):\n",
    "        if y_kingdom[j] != class_name:\n",
    "            _y[j] = 0\n",
    "    dt_fpr, dt_tpr, _ = roc_curve(_y, dt_probs[:, i])\n",
    "    plt.plot(dt_fpr, dt_tpr, marker='.', label= class_name)\n",
    "    first = False\n",
    "\n",
    "random_fpr, random_tpr, _ = roc_curve(_y, np.zeros((n,), dtype='int8'))\n",
    "plt.plot(random_fpr, random_tpr, linestyle='--', label='Random prediction')\n",
    "\n",
    "plt.legend()\n",
    "plt.show()"
   ]
  },
  {
   "cell_type": "code",
   "execution_count": 56,
   "id": "f741ee45",
   "metadata": {},
   "outputs": [
    {
     "data": {
      "image/png": "[encoded data removed]",
      "text/plain": [
       "<Figure size 468x468 with 1 Axes>"
      ]
     },
     "metadata": {
      "needs_background": "light"
     },
     "output_type": "display_data"
    }
   ],
   "source": [
    "m = len(class_vars_dnatype)\n",
    "\n",
    "# Predict class probabilities\n",
    "y_pred_dnatype = model_tree_dnatype.predict(X)\n",
    "dt_probs = model_tree_dnatype.predict_proba(X)\n",
    "\n",
    "plt.figure(figsize = (6.5, 6.5))\n",
    "plt.title('ROC Plot DNAtype')\n",
    "\n",
    "plt.xlabel('FPR(False Positive Rate)')\n",
    "plt.ylabel('TPR(True Positive Rate)')\n",
    "\n",
    "_y = np.ones((n,),dtype=\"int8\")\n",
    "first = True\n",
    "for i in range(m):\n",
    "    if not first:\n",
    "        _y = np.ones((n,),dtype=\"int8\")\n",
    "    \n",
    "    class_name = class_vars_dnatype[i]\n",
    "    for j in range(n):\n",
    "        if y_dnatype[j] != class_name:\n",
    "            _y[j] = 0\n",
    "    dt_fpr, dt_tpr, _ = roc_curve(_y, dt_probs[:, i])\n",
    "    match class_name:\n",
    "        case 0:\n",
    "            class_name = 'nuclear'\n",
    "        case 1:\n",
    "            class_name = 'mitochondrion'\n",
    "        case 2:\n",
    "            class_name = 'chloroplast'\n",
    "    plt.plot(dt_fpr, dt_tpr, marker='.', label= class_name)\n",
    "    first = False\n",
    "\n",
    "plt.plot(random_fpr, random_tpr, linestyle='--', label='Random prediction')\n",
    "\n",
    "plt.legend()\n",
    "plt.show()"
   ]
  },
  {
   "cell_type": "markdown",
   "id": "01a87f41",
   "metadata": {},
   "source": [
    "Again we make the following inferences:\n",
    "</br>\n",
    "</br>\n",
    "**Kingdom Classification**\n",
    "</br>\n",
    "The model doesn't work well for classes 'euk' (Eukaryotes) and 'phg' (Bacteriophage) as the performance is even worse than a random predictor\n",
    "</br>\n",
    "**DNAtype Classification**\n",
    "</br>\n",
    "The model works quite well with very high performance\n",
    "</br>"
   ]
  },
  {
   "cell_type": "markdown",
   "id": "338fe59d",
   "metadata": {},
   "source": [
    "### Statistical Scores of the models built "
   ]
  },
  {
   "cell_type": "code",
   "execution_count": 53,
   "id": "d442de3e",
   "metadata": {},
   "outputs": [
    {
     "name": "stdout",
     "output_type": "stream",
     "text": [
      "Kingdom Classification-------------------\n",
      "Accuracy:0.6427\n",
      "Precision:0.6427\n",
      "Recall:0.6427\n",
      "DNAtype Classification-------------------\n",
      "Accuracy:0.9504\n",
      "Precision:0.9504\n",
      "Recall:0.9504\n"
     ]
    }
   ],
   "source": [
    "# Statistical Measures\n",
    "import eval_metrics\n",
    "\n",
    "print('Kingdom Classification-------------------')\n",
    "conf_matrix = eval_metrics.confusion_matrix(y_kingdom, y_pred_kingdom, class_vars_kingdom)\n",
    "print('Accuracy:%.4f' %eval_metrics.accuracy(conf_matrix))\n",
    "print('Precision:%.4f' %eval_metrics.precision(conf_matrix, class_vars_kingdom))\n",
    "print('Recall:%.4f' %eval_metrics.recall(conf_matrix, class_vars_kingdom))\n",
    "\n",
    "conf_matrix = eval_metrics.confusion_matrix(y_dnatype, y_pred_dnatype, class_vars_dnatype)\n",
    "print('DNAtype Classification-------------------')\n",
    "print('Accuracy:%.4f' %eval_metrics.accuracy(conf_matrix))\n",
    "print('Precision:%.4f' %eval_metrics.precision(conf_matrix, class_vars_dnatype))\n",
    "print('Recall:%.4f' %eval_metrics.recall(conf_matrix, class_vars_dnatype))"
   ]
  },
  {
   "cell_type": "code",
   "execution_count": null,
   "id": "ed06b800",
   "metadata": {},
   "outputs": [],
   "source": []
  }
 ],
 "metadata": {
  "kernelspec": {
   "display_name": "Python 3 (ipykernel)",
   "language": "python",
   "name": "python3"
  },
  "language_info": {
   "codemirror_mode": {
    "name": "ipython",
    "version": 3
   },
   "file_extension": ".py",
   "mimetype": "text/x-python",
   "name": "python",
   "nbconvert_exporter": "python",
   "pygments_lexer": "ipython3",
   "version": "3.10.1"
  }
 },
 "nbformat": 4,
 "nbformat_minor": 5
}
